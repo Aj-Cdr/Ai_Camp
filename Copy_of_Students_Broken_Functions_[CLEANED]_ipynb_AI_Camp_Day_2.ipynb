{
  "cells": [
    {
      "cell_type": "markdown",
      "metadata": {
        "id": "SewAHImJD4ii"
      },
      "source": [
        "Instructions:\n",
        "\n",
        "* You will be given a set of Python functions that contain errors, incomplete code, or incorrect logic.\n",
        "* Your task is to identify and fix the issues in each function to make them work correctly and produce the desired output.\n",
        "* Start by running the code as it is and observe the error messages or incorrect output.\n",
        "* Use your Python knowledge and reasoning skills to analyze the code and identify potential issues or mistakes.\n",
        "* If you are unable to identify the problem, utilize the power of ChatGPT to seek assistance in understanding the error or bug.\n",
        "* Ask ChatGPT specific questions about the code, such as what the error message means or what a particular line of code does.\n",
        "* Once you have identified the problem, devise a solution or write code to fix the issue.\n",
        "* odify the code to address the error, incomplete code, or incorrect logic that you have identified.\n",
        "* Run the corrected code to ensure it produces the desired output without any errors.\n",
        "* Document your findings and the steps you took to fix the code.\n",
        "* Repeat the process for each function provided in the assignment.\n",
        "* Test your fixed functions with different test cases to verify their correctness and functionality.\n",
        "\n",
        "Finally, submit your corrected code and documentation explaining the errors and fixes you made for each function.\n",
        "\n",
        "Note: It's important to understand and learn from the errors and mistakes in the code. Focus on the concepts and techniques used in Python programming, and use ChatGPT as a helpful tool to guide your problem-solving process."
      ]
    },
    {
      "cell_type": "markdown",
      "metadata": {
        "id": "g-qVwuxkD4in"
      },
      "source": [
        "\n",
        "\n",
        "## Q1 The function reverse_string takes a string as input and returns the reversed version of the input string.\n",
        "\n",
        "Test Cases:\n",
        "\n",
        "reverse_string(\"aicamp\") should return \"pmacia\" (reversed version of the input string).\n",
        "\n",
        "reverse_string(\"Hello, World!\") should return \"!dlroW ,olleH\" (reversed version of the input string).\n",
        "\n",
        "reverse_string(\"12345\") should return \"54321\" (reversed version of the input string)."
      ]
    },
    {
      "cell_type": "code",
      "execution_count": null,
      "metadata": {
        "id": "dVQTispsD4io",
        "outputId": "342dd7f4-f08b-483c-aa10-9a6593ed41ea",
        "colab": {
          "base_uri": "https://localhost:8080/",
          "height": 36
        }
      },
      "outputs": [
        {
          "output_type": "execute_result",
          "data": {
            "text/plain": [
              "'nohtyP'"
            ],
            "application/vnd.google.colaboratory.intrinsic+json": {
              "type": "string"
            }
          },
          "metadata": {},
          "execution_count": 6
        }
      ],
      "source": [
        "def reverse_string(string):\n",
        "    reversed_str = \"\"\n",
        "    reversed_str += string[::-1]\n",
        "    return reversed_str\n",
        "\n",
        "# Intended Output\n",
        "# reverse_string(\"Python\") should return \"nohtyP\"\n",
        "\n",
        "reverse_string(\"Python\")"
      ]
    },
    {
      "cell_type": "markdown",
      "metadata": {
        "id": "-0CTrjz5D4is"
      },
      "source": [
        "## Q2 The function factorial takes an integer n as input and returns the factorial of n, which is the product of all positive integers from 1 to n.\n",
        "\n",
        "Test Cases:\n",
        "\n",
        "factorial(5) should return 120 (5! = 5 x 4 x 3 x 2 x 1 = 120).\n",
        "factorial(0) should return 1 (0! is defined to be 1).\n",
        "factorial(10) should return 3628800 (10! = 10 x 9 x 8 x 7 x 6 x 5 x 4 x 3 x 2 x 1 = 3628800)."
      ]
    },
    {
      "cell_type": "code",
      "execution_count": null,
      "metadata": {
        "id": "FQHitZwQD4it",
        "colab": {
          "base_uri": "https://localhost:8080/"
        },
        "outputId": "2e27e0c8-b49b-4668-cb79-34fca074721a"
      },
      "outputs": [
        {
          "output_type": "execute_result",
          "data": {
            "text/plain": [
              "120"
            ]
          },
          "metadata": {},
          "execution_count": 10
        }
      ],
      "source": [
        "def factorial(n):\n",
        "    result = 1\n",
        "    if n == 0:\n",
        "        return 1\n",
        "    else:\n",
        "        for i in range(n):\n",
        "            result *= (i + 1)\n",
        "        return result\n",
        "\n",
        "# Intended Output\n",
        "# factorial(5) should return 120\n",
        "\n",
        "factorial(5)\n"
      ]
    },
    {
      "cell_type": "markdown",
      "metadata": {
        "id": "0Yq7aFI6D4iu"
      },
      "source": [
        "## Q3 The function calculate_average takes a list of numbers as input and returns the average of those numbers\n",
        "\n",
        "Test Cases:\n",
        "\n",
        "calculate_average([1, 2, 3, 4, 5]) should return 3.0 (average of 1, 2, 3, 4, 5 is 3.0).\n",
        "calculate_average([10, 20, 30, 40, 50]) should return 30.0 (average of 10, 20, 30, 40, 50 is 30.0).\n",
        "calculate_average([2, 4, 6, 8, 10]) should return 6.0 (average of 2, 4, 6, 8, 10 is 6.0).\n"
      ]
    },
    {
      "cell_type": "code",
      "execution_count": null,
      "metadata": {
        "id": "K-K_HrbAD4iv",
        "colab": {
          "base_uri": "https://localhost:8080/"
        },
        "outputId": "2fc9b7a3-4bbb-47d6-9b69-9e42578dbaa5"
      },
      "outputs": [
        {
          "output_type": "execute_result",
          "data": {
            "text/plain": [
              "3.0"
            ]
          },
          "metadata": {},
          "execution_count": 13
        }
      ],
      "source": [
        "def calculate_average(numbers):\n",
        "    total = 0\n",
        "    for num in numbers:\n",
        "        total += num\n",
        "    average = total / (len(numbers))\n",
        "    return average\n",
        "\n",
        "# Intended Output\n",
        "# calculate_average([1, 2, 3, 4, 5]) should return 3.0\n",
        "calculate_average([1, 2, 3, 4, 5])"
      ]
    },
    {
      "cell_type": "markdown",
      "metadata": {
        "id": "i2tU1TE9D4iw"
      },
      "source": [
        "## Q4 The function is_prime takes an integer n as input and checks whether it is a prime number or not. It returns True if n is prime, and False otherwise.\n",
        "\n",
        "Test Cases:\n",
        "\n",
        "is_prime(7) should return True (7 is a prime number).\n",
        "is_prime(10) should return False (10 is not a prime number, it is divisible by 2 and 5).\n",
        "is_prime(23) should return True (23 is a prime number).\n",
        "\n",
        "\n",
        "\n"
      ]
    },
    {
      "cell_type": "code",
      "execution_count": null,
      "metadata": {
        "id": "xx-FVXi0D4ix",
        "colab": {
          "base_uri": "https://localhost:8080/"
        },
        "outputId": "b131b2ce-c654-49fc-e755-9b27d9d2efac"
      },
      "outputs": [
        {
          "output_type": "execute_result",
          "data": {
            "text/plain": [
              "True"
            ]
          },
          "metadata": {},
          "execution_count": 23
        }
      ],
      "source": [
        "def is_prime(n):\n",
        "    if n < 2:\n",
        "        return False\n",
        "    for i in range(2, int(n**0.5) + 1):\n",
        "        if n % i == 0:\n",
        "            return False\n",
        "    return True\n",
        "\n",
        "# Intended Output\n",
        "# is_prime(7) should return True\n",
        "is_prime(7)"
      ]
    },
    {
      "cell_type": "markdown",
      "metadata": {
        "id": "QL3mtFRrD4ix"
      },
      "source": [
        "## Q5 ## Q5 The function find_common_elements takes two lists, list1 and list2, as input and returns a new list containing the common elements found in both lists.\n",
        "\n",
        "Test Cases:\n",
        "\n",
        "find_common_elements([1, 2, 3, 4, 5], [4, 5, 6, 7, 8]) should return [4, 5] (4 and 5 are common elements in both lists).\n",
        "find_common_elements([10, 20, 30], [30, 40, 50]) should return [30] (30 is the common element in both lists).\n",
        "find_common_elements([1, 2, 3], [4, 5, 6]) should return an empty list [] (there are no common elements between the lists).\n"
      ]
    },
    {
      "cell_type": "code",
      "execution_count": null,
      "metadata": {
        "id": "p5RtW5BDD4iy",
        "colab": {
          "base_uri": "https://localhost:8080/"
        },
        "outputId": "2a94fc36-9834-4d3f-da46-4a005ea3acd9"
      },
      "outputs": [
        {
          "output_type": "execute_result",
          "data": {
            "text/plain": [
              "[4, 5]"
            ]
          },
          "metadata": {},
          "execution_count": 26
        }
      ],
      "source": [
        "def find_common_elements(list1, list2):\n",
        "    common_elements = []\n",
        "    for i in range(len(list1)):\n",
        "        if list1[i] in list2:\n",
        "            common_elements.append(list1[i])\n",
        "    return common_elements\n",
        "\n",
        "\n",
        "# Intended Output\n",
        "# find_common_elements([1, 2, 3, 4, 5], [4, 5, 6, 7, 8]) should return [4, 5]\n",
        "find_common_elements([1, 2, 3, 4, 5], [4, 5, 6, 7, 8])"
      ]
    },
    {
      "cell_type": "markdown",
      "metadata": {
        "id": "Lo-A81rlD4iz"
      },
      "source": [
        "## Q6 The function remove_duplicates takes a list lst as input and returns a new list containing only the unique elements from the input list, removing any duplicates.\n",
        "\n",
        "Test Cases:\n",
        "\n",
        "remove_duplicates([1, 2, 2, 3, 4, 4, 5]) should return [1, 2, 3, 4, 5] (removing the duplicate elements 2 and 4 from the input list).\n",
        "remove_duplicates([10, 20, 30, 20, 40, 50, 30]) should return [10, 20, 30, 40, 50] (removing the duplicate elements 20 and 30 from the input list).\n",
        "remove_duplicates([1, 1, 1, 1, 1]) should return [1] (removing all duplicates of the element 1 from the input list, resulting in a list with a single element).\n",
        "\n",
        "\n"
      ]
    },
    {
      "cell_type": "code",
      "execution_count": null,
      "metadata": {
        "id": "UdLWI9vJD4iz",
        "colab": {
          "base_uri": "https://localhost:8080/"
        },
        "outputId": "05a61fb6-df3f-4208-db94-6b9829f33935"
      },
      "outputs": [
        {
          "output_type": "execute_result",
          "data": {
            "text/plain": [
              "[1, 2, 3, 4, 5]"
            ]
          },
          "metadata": {},
          "execution_count": 32
        }
      ],
      "source": [
        "def remove_duplicates(lst):\n",
        "    unique_lst = []\n",
        "    for i in range(len(lst)):\n",
        "        if lst[i] not in unique_lst:\n",
        "            unique_lst.append(lst[i])\n",
        "    return unique_lst\n",
        "\n",
        "# Intended Output\n",
        "# remove_duplicates([1, 2, 2, 3, 4, 4, 5]) should return [1, 2, 3, 4, 5]\n",
        "remove_duplicates([1, 2, 2, 3, 4, 4, 5,])"
      ]
    },
    {
      "cell_type": "markdown",
      "metadata": {
        "id": "kLeUwjDSD4i0"
      },
      "source": [
        "## Q7 The function calculate_total_score takes a list of dictionaries scores_list as input, where each dictionary represents the scores of players. It calculates the total score for each player and returns a dictionary with player names as keys and their total scores as values.\n",
        "\n",
        "input:\n",
        "scores_list = [{'John': 10}, {'Alice': 15}, {'Bob': 12}, {'John': 5}]\n",
        "output:\n",
        "{'John': 15, 'Alice': 15, 'Bob': 12}\n",
        "\n"
      ]
    },
    {
      "cell_type": "code",
      "execution_count": null,
      "metadata": {
        "id": "hXFFHNcFD4i0",
        "outputId": "6b38c2fa-6dd6-4f3b-f14c-ff6498c9cb04",
        "colab": {
          "base_uri": "https://localhost:8080/"
        }
      },
      "outputs": [
        {
          "output_type": "execute_result",
          "data": {
            "text/plain": [
              "{'John': 15, 'Alice': 15, 'Bob': 12}"
            ]
          },
          "metadata": {},
          "execution_count": 34
        }
      ],
      "source": [
        "def calculate_total_score(scores_list):\n",
        "    \"\"\"\n",
        "    Calculates the total score for each player and returns a dictionary\n",
        "    with player names as keys and their total scores as values.\n",
        "    \"\"\"\n",
        "    total_scores = {}\n",
        "    for scores in scores_list:\n",
        "        for player, score in scores.items():\n",
        "            if player in total_scores:\n",
        "                total_scores[player] += score\n",
        "            else:\n",
        "                total_scores[player] = score\n",
        "    return total_scores\n",
        "\n",
        "# Test case with array of dictionaries\n",
        "scores_list = [{'John': 10}, {'Alice': 15}, {'Bob': 12}, {'John': 5}]\n",
        "calculate_total_score(scores_list)\n"
      ]
    },
    {
      "cell_type": "markdown",
      "metadata": {
        "id": "uzdpVWORD4i1"
      },
      "source": [
        "## Q8 The function get_even_numbers takes an integer n as input and returns a list of even numbers from 1 to n (inclusive). However, there is a conceptual error in the implementation where odd numbers are being appended to the list instead of even numbers.\n",
        "\n",
        "Example:\n",
        "input:\n",
        "n = 10\n",
        "even_numbers = get_even_numbers(n)\n",
        "print(even_numbers)\n",
        "\n",
        "output: [2, 4, 6, 8, 10]\n",
        "\n",
        "\n"
      ]
    },
    {
      "cell_type": "code",
      "execution_count": null,
      "metadata": {
        "id": "xkTIGDHOD4i1",
        "colab": {
          "base_uri": "https://localhost:8080/"
        },
        "outputId": "073b1176-d2c8-4dae-cf4a-5cede1e871a3"
      },
      "outputs": [
        {
          "output_type": "stream",
          "name": "stdout",
          "text": [
            "[2, 4, 6, 8, 10]\n"
          ]
        }
      ],
      "source": [
        "def get_even_numbers(n):\n",
        "    \"\"\"\n",
        "    Returns a list of even numbers from 1 to n (inclusive) with a bug.\n",
        "    \"\"\"\n",
        "    even_numbers = []\n",
        "    for x in range(1, n + 1):\n",
        "        if x % 2 == 0:\n",
        "            even_numbers.append(x)\n",
        "    return even_numbers\n",
        "\n",
        "n = 10\n",
        "even_numbers = get_even_numbers(n)\n",
        "print(even_numbers)"
      ]
    },
    {
      "cell_type": "markdown",
      "source": [
        "\n",
        "## Q9 The function counts the occurance of an element in a list\n",
        "Example:\n",
        "\n",
        "my_list = [1, 2, 3, 4, 4, 4, 5]\n",
        "target_element = 4\n",
        "\n",
        "my_list = [1, 1, 1, 1, 1, 1, 1]\n",
        "target_element = 1\n",
        "\n",
        "my_list = [2, 2, 2, 2, 2]\n",
        "target_element = 3"
      ],
      "metadata": {
        "id": "cwePJT6UB3VE"
      }
    },
    {
      "cell_type": "code",
      "source": [
        "def count_occurrences(lst, element):\n",
        "    count = 0\n",
        "    for i in range(len(lst)):\n",
        "        if lst[i] == element:\n",
        "            count += 1\n",
        "\n",
        "    return count\n",
        "\n",
        "my_list = [1, 2, 3, 4, 4, 4, 5]\n",
        "target_element = 4\n",
        "occurrences = count_occurrences(my_list, target_element)\n",
        "print(f\"The element {target_element} occurs {occurrences} times in the list.\")"
      ],
      "metadata": {
        "id": "6xuhxbbGC3W3",
        "colab": {
          "base_uri": "https://localhost:8080/"
        },
        "outputId": "1c7fcb29-acb8-49dd-fb14-0482e57d73c2"
      },
      "execution_count": null,
      "outputs": [
        {
          "output_type": "stream",
          "name": "stdout",
          "text": [
            "The element 4 occurs 3 times in the list.\n"
          ]
        }
      ]
    },
    {
      "cell_type": "markdown",
      "source": [
        "##10. Implement the word_frequency function to solve this problem. You can assume that the input list will always contain at least one word.\n",
        "\n",
        "Example:\n",
        "\n",
        "word_list = [\"apple\", \"banana\", \"cherry\", \"apple\", \"banana\", \"apple\"]\n",
        "result = word_frequency(word_list)\n",
        "\n",
        "word_list = [\"cat\", \"dog\", \"cat\", \"cat\", \"dog\"]\n",
        "result = word_frequency(word_list)\n",
        "\n",
        "word_list = [\"hello\", \"world\", \"hello\", \"hello\", \"hello\"]\n",
        "result = word_frequency(word_list)"
      ],
      "metadata": {
        "id": "MCfBhNgiKbY1"
      }
    },
    {
      "cell_type": "code",
      "source": [
        "def word_frequency(word_list):\n",
        "    frequency = {}\n",
        "\n",
        "    for word in word_list:\n",
        "        if word in frequency:\n",
        "            frequency[word] += 1\n",
        "        else:\n",
        "            frequency[word] = 1\n",
        "\n",
        "    return frequency\n",
        "\n",
        "word_list = [\"apple\", \"banana\", \"cherry\", \"apple\", \"banana\", \"apple\"]\n",
        "\n",
        "result = word_frequency(word_list)\n",
        "print(result)\n"
      ],
      "metadata": {
        "id": "bVU2UQpnLCov",
        "colab": {
          "base_uri": "https://localhost:8080/"
        },
        "outputId": "23712a16-57cd-4061-daa4-f41babcfee00"
      },
      "execution_count": null,
      "outputs": [
        {
          "output_type": "stream",
          "name": "stdout",
          "text": [
            "{'apple': 3, 'banana': 2, 'cherry': 1}\n"
          ]
        }
      ]
    }
  ],
  "metadata": {
    "kernelspec": {
      "display_name": "Python 3",
      "language": "python",
      "name": "python3"
    },
    "language_info": {
      "codemirror_mode": {
        "name": "ipython",
        "version": 3
      },
      "file_extension": ".py",
      "mimetype": "text/x-python",
      "name": "python",
      "nbconvert_exporter": "python",
      "pygments_lexer": "ipython3",
      "version": "3.10.11"
    },
    "orig_nbformat": 4,
    "colab": {
      "provenance": []
    }
  },
  "nbformat": 4,
  "nbformat_minor": 0
}